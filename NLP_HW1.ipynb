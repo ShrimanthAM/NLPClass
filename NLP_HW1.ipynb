{
  "nbformat": 4,
  "nbformat_minor": 0,
  "metadata": {
    "colab": {
      "name": "NLP-HW1.ipynb",
      "provenance": [],
      "collapsed_sections": [],
      "authorship_tag": "ABX9TyN1Hunx+nVypkrtv0UPpCnM",
      "include_colab_link": true
    },
    "kernelspec": {
      "name": "python3",
      "display_name": "Python 3"
    }
  },
  "cells": [
    {
      "cell_type": "markdown",
      "metadata": {
        "id": "view-in-github",
        "colab_type": "text"
      },
      "source": [
        "<a href=\"https://colab.research.google.com/github/ShrimanthAM/NLPClass/blob/master/NLP_HW1.ipynb\" target=\"_parent\"><img src=\"https://colab.research.google.com/assets/colab-badge.svg\" alt=\"Open In Colab\"/></a>"
      ]
    },
    {
      "cell_type": "markdown",
      "metadata": {
        "id": "5ayanXSrbK4S",
        "colab_type": "text"
      },
      "source": [
        "5.\tUse TextBlob to translate a sentence in English into French, Mandarin, and Hindi?\n",
        "a.\tImport TextBlob\n",
        "b.\tLanguages are coded as ‘fr’, ‘zh-CN’, ‘hi’\n",
        "c.\tTranslate the following sentence “Who knew translation could be fun” into French, Mandarin, and Hindi\n"
      ]
    },
    {
      "cell_type": "code",
      "metadata": {
        "id": "eCEU_Z7TbB8F",
        "colab_type": "code",
        "colab": {}
      },
      "source": [
        "from textblob import TextBlob"
      ],
      "execution_count": null,
      "outputs": []
    },
    {
      "cell_type": "code",
      "metadata": {
        "id": "AU4CClOebTxk",
        "colab_type": "code",
        "colab": {}
      },
      "source": [
        "blob=TextBlob('Who knew translation could be fun')"
      ],
      "execution_count": null,
      "outputs": []
    },
    {
      "cell_type": "code",
      "metadata": {
        "id": "dGTxkeFtbahm",
        "colab_type": "code",
        "colab": {
          "base_uri": "https://localhost:8080/",
          "height": 35
        },
        "outputId": "8ec399f3-7021-4da6-c6d9-4c9aa6f62b35"
      },
      "source": [
        "blob.detect_language()"
      ],
      "execution_count": null,
      "outputs": [
        {
          "output_type": "execute_result",
          "data": {
            "application/vnd.google.colaboratory.intrinsic+json": {
              "type": "string"
            },
            "text/plain": [
              "'en'"
            ]
          },
          "metadata": {
            "tags": []
          },
          "execution_count": 3
        }
      ]
    },
    {
      "cell_type": "code",
      "metadata": {
        "id": "X9LQDrsEbfkN",
        "colab_type": "code",
        "colab": {
          "base_uri": "https://localhost:8080/",
          "height": 84
        },
        "outputId": "37fe92c8-bcaf-462f-c900-ac5eee516829"
      },
      "source": [
        "print(blob)\n",
        "print(blob.translate(to='fr'))\n",
        "print(blob.translate(to='hi'))\n",
        "print(blob.translate(to='zh-CN'))\n"
      ],
      "execution_count": null,
      "outputs": [
        {
          "output_type": "stream",
          "text": [
            "Who knew translation could be fun\n",
            "Qui savait que la traduction pouvait être amusante\n",
            "कौन जानता था कि अनुवाद मज़ेदार हो सकता है\n",
            "谁知道翻译会很有趣\n"
          ],
          "name": "stdout"
        }
      ]
    },
    {
      "cell_type": "markdown",
      "metadata": {
        "id": "cTyJGl34yT6r",
        "colab_type": "text"
      },
      "source": [
        "1.\tMake sure you have installed BeautifulSoup and lxml\n",
        "2.\tUse the website https://pythonprogramming.net/parsememcparseface/\n",
        "3.\tConnect to the website using urllib.request\n",
        "4.\tCreate an object called ‘soup’ using the source\n",
        "5.\tPrint page title, get attributes, values, and beginning navigation. Get specific values.\n",
        "6.\tFind all the paragraph instead of just one in the previous query\n",
        "7.\tYou can iterate through them using ‘str(paragraph.text)’\n",
        "8.\tGrab all the links through ‘url.get(‘href’)\n",
        "9.\tJust grab the text using ‘get_text’\n"
      ]
    },
    {
      "cell_type": "code",
      "metadata": {
        "id": "wPmrjkz7fd9t",
        "colab_type": "code",
        "colab": {}
      },
      "source": [
        ""
      ],
      "execution_count": null,
      "outputs": []
    },
    {
      "cell_type": "code",
      "metadata": {
        "id": "ytIiO7FaAf7_",
        "colab_type": "code",
        "colab": {}
      },
      "source": [
        "#importing the libraries\n",
        "import bs4\n",
        "import lxml\n",
        "import urllib.request"
      ],
      "execution_count": null,
      "outputs": []
    },
    {
      "cell_type": "code",
      "metadata": {
        "id": "kN3Q3vckBE24",
        "colab_type": "code",
        "colab": {}
      },
      "source": [
        "source = urllib.request.urlopen('https://pythonprogramming.net/parsememcparseface/')"
      ],
      "execution_count": null,
      "outputs": []
    },
    {
      "cell_type": "code",
      "metadata": {
        "id": "N_NWxjNGBFbL",
        "colab_type": "code",
        "colab": {
          "base_uri": "https://localhost:8080/",
          "height": 54
        },
        "outputId": "ae58b8a2-63e8-49e9-e05f-6e78fc71f997"
      },
      "source": [
        "source=source.read()\n",
        "source"
      ],
      "execution_count": null,
      "outputs": [
        {
          "output_type": "execute_result",
          "data": {
            "text/plain": [
              "b'<html>\\n\\t<head>\\n\\n\\t\\t<!--\\n\\t\\tpalette:\\n\\t\\tdark blue: #003F72\\n\\t\\tyellow: #FFD166\\n\\t\\tsalmon: #EF476F\\n\\t\\toffwhite: #e7d7d7\\n\\t\\tLight Blue: #118AB2\\n\\t\\tLight green: #7DDF64\\n\\t\\t-->\\n\\n\\t\\t<meta name=\"viewport\" content = \"width=device-width, initial-scale=1.0\">\\n\\t\\t<title>Python Programming Tutorials</title>\\n\\n\\t\\t<meta name=\"description\" content=\"Python Programming tutorials from beginner to advanced on a massive variety of topics. All video and text tutorials are free.\">\\n\\n\\t\\t<link rel=\"shortcut icon\" href=\"/static/favicon.ico\">\\n\\t\\t<link rel=\"stylesheet\" href=\"/static/css/materialize.min.css\">\\n        <link href=\"https://fonts.googleapis.com/icon?family=Material+Icons\" rel=\"stylesheet\">\\n        <meta name=\"google-site-verification\" content=\"3fLok05gk5gGtWd_VSXbSSSH27F2kr1QqcxYz9vYq2k\" />\\n        <link rel=\"stylesheet\" type=\"text/css\" href=\"/static/css/bootstrap.css\">\\n\\n\\n\\t\\t  <!-- Compiled and minified CSS -->\\n\\n\\t\\t<!-- Compiled and minified JavaScript -->\\n\\n\\t\\t<script src=\"https://code.jquery.com/jquery-2.1.4.min.js\"></script>\\n\\t\\t<script src=\"https://cdnjs.cloudflare.com/ajax/libs/materialize/0.97.3/js/materialize.min.js\"></script>\\n\\n\\n\\n        <style>\\n\\t\\t@media (min-width:992px) {\\n\\t\\t#aside {\\n\\t\\t\\twidth:250px;\\n\\t\\t}\\n\\t\\tpre { tab-size: 4;}\\n\\t\\t.btn {background-color:#FFD166;\\n\\t\\t\\t  color:#000;\\n\\t\\t      height:auto;\\n\\t\\t\\t  font-color:#000;\\n\\t\\t\\t  }\\n\\t\\t.btn:hover {background-color:#FFD166;\\n\\t\\t\\t\\t\\t}\\n\\n\\n\\t\\t</style>\\n\\n\\t\\t<!-- Google Tracking -->\\n\\t\\t<script>\\n\\t\\t\\t  (function(i,s,o,g,r,a,m){i[\\'GoogleAnalyticsObject\\']=r;i[r]=i[r]||function(){\\n\\t\\t\\t  (i[r].q=i[r].q||[]).push(arguments)},i[r].l=1*new Date();a=s.createElement(o),\\n\\t\\t\\t  m=s.getElementsByTagName(o)[0];a.async=1;a.src=g;m.parentNode.insertBefore(a,m)\\n\\t\\t\\t  })(window,document,\\'script\\',\\'//www.google-analytics.com/analytics.js\\',\\'ga\\');\\n              ga(\\'config\\', \\'UA-51891827-1\\', {\\'anonymize_ip\\': true});\\xef\\xbb\\xbf\\n\\t\\t\\t  ga(\\'create\\', \\'UA-51891827-1\\', \\'auto\\');\\n\\t\\t\\t  ga(\\'send\\', \\'pageview\\');\\n\\n\\t\\t</script>\\n\\n            \\n                \\n                    <script async src=\"//pagead2.googlesyndication.com/pagead/js/adsbygoogle.js\"></script>\\n                    <script>\\n                         (adsbygoogle = window.adsbygoogle || []).push({\\n                              google_ad_client: \"ca-pub-1579050400541873\",\\n                              enable_page_level_ads: true\\n                         });\\n                    </script>\\n                \\n            \\n\\n\\n\\n\\n\\t</head>\\n\\n\\t<body>\\n\\n\\t\\t<div class=\"navbar-fixed\">\\n\\t\\t\\t<nav style=\"background-color:#003F72\">\\n\\t\\t\\t\\t<div class=\"nav-wrapper container\">\\n\\t\\t\\t\\t\\t<a href=\"/\" class=\"brand-logo\"><img class=\"img-responsive\" style=\"width:50px; height;50px; margin-top:5px\" src=\"/static/images/mainlogowhitethick.jpg\"></a>\\n\\t\\t\\t\\t\\t<a href=\"#\" data-activates=\"navsidebar\" class=\"button-collapse\"><i class=\"mdi-navigation-menu\"></i></a>\\n\\t\\t\\t\\t\\t<ul class=\"right hide-on-med-and-down\">\\n\\t\\t\\t\\t\\t<li><i class=\"material-icons\">search</i></li>\\n\\t\\t\\t\\t\\t<li>\\n\\t\\t\\t\\t\\t\\t<form method=\\'get\\' id=\\'searchform\\' style=\\'height:50px; padding-top:10px\\' action=\\'/search/?l=hi\\'>\\n\\t\\t\\t\\t\\t\\t\\t<input name=\\'q\\' id=\"search\" type=\"search\" placeholder=\"search\"  style=\\'font-size:16px\\'>\\n\\t\\t\\t\\t\\t\\t</form>\\n\\t\\t\\t\\t\\t</li>\\n\\t\\t\\t\\t\\t\\t\\n\\t\\t\\t<li><a href=\"/\">Home</a></li>\\n\\t\\t\\t<li><a class=\"tooltipped\" data-position=\"bottom\" data-delay=\"50\" data-tooltip=\"sudo apt-get upgrade\" href=\"/+=1/\">+=1</a></li>\\n\\t\\t\\t<!--<li><a href=\"/store/python-hoodie/\">Store</a></li>-->\\n\\t\\t\\t<li><a href=\"/support/\">Support the Content</a></li>\\n\\t\\t\\t\\n\\t\\t\\t<li><a href=\"https://goo.gl/7zgAVQ\" target=\\'blank\\'><!--<i class=\"material-icons\">question_answer</i>-->Community</a></li>\\n\\t\\t\\t\\t<li><a href=\"/login/\">Log in</a></li>\\n                <li><a href=\"/register/\">Sign up</a></li>\\n\\t\\t\\t\\n\\n\\t\\t\\t\\t\\t</ul>\\n\\t\\t\\t\\t\\t<ul class=\"side-nav\" id=\"navsidebar\">\\n\\t\\t\\t\\t\\t<li>\\n\\t\\t\\t\\t\\t\\t<form method=\\'get\\' id=\\'searchform\\' style=\\'height:50px; padding-top:10px\\' action=\\'/search/?l=hi\\'>\\n\\t\\t\\t\\t\\t\\t\\t<input name=\\'q\\' id=\"search\" type=\"search\" placeholder=\"search\"  style=\\'font-size:16px\\'>\\n\\t\\t\\t\\t\\t\\t</form>\\n\\t\\t\\t\\t\\t</li>\\n\\t\\t\\t\\t\\t\\t\\n\\t\\t\\t<li><a href=\"/\">Home</a></li>\\n\\t\\t\\t<li><a class=\"tooltipped\" data-position=\"bottom\" data-delay=\"50\" data-tooltip=\"sudo apt-get upgrade\" href=\"/+=1/\">+=1</a></li>\\n\\t\\t\\t<!--<li><a href=\"/store/python-hoodie/\">Store</a></li>-->\\n\\t\\t\\t<li><a href=\"/support/\">Support the Content</a></li>\\n\\t\\t\\t\\n\\t\\t\\t<li><a href=\"https://goo.gl/7zgAVQ\" target=\\'blank\\'><!--<i class=\"material-icons\">question_answer</i>-->Community</a></li>\\n\\t\\t\\t\\t<li><a href=\"/login/\">Log in</a></li>\\n                <li><a href=\"/register/\">Sign up</a></li>\\n\\t\\t\\t\\n\\n\\t\\t\\t\\t\\t</ul>\\n\\t\\t\\t\\t</div>\\n\\t\\t\\t</nav>\\n\\t\\t</div>\\n\\n\\n\\n\\t\\t<!-- main content -->\\n\\t\\t<div class=\"container\" style=\"max-width:1500px; min-height:100%\">\\n\\t\\t\\t<!--Notification:-->\\n            <!--<p style=\"font-size:80%\">TensorFlow.js Livestream:  <a href=\"https://www.youtube.com/watch?v=NjSlj95lliM\" target=\"blank\"><strong>Deep Learning in the browser</strong></a></p>-->\\n            <!--End Notification:-->\\n\\n\\t\\t\\t\\t\\t\\n\\t\\t\\t\\t\\t\\n\\t\\t\\t\\t\\t  \\n\\t\\t\\t\\t\\t\\n\\n\\t\\t\\t\\t\\t\\n\\n<div class=\"body\">\\n\\n\\t<p class=\\'introduction\\'>Oh, hello! This is a <span style=\\'font-size:115%\\'>wonderful</span> page meant to let you practice web scraping. This page was originally created to help people work with the <a href=\"https://www.crummy.com/software/BeautifulSoup/bs4/doc/\" target=\"blank\"><strong>Beautiful Soup 4</strong></a> library.</p>\\n\\n\\t<p>The following table gives some general information for the following <code>programming languages</code>:</p>\\n\\n\\t<ul>\\n\\t\\t<li>Python</li>\\n\\t\\t<li>Pascal</li>\\n\\t\\t<li>Lisp</li>\\n\\t\\t<li>D#</li>\\n\\t\\t<li>Cobol</li>\\n\\t\\t<li>Fortran</li>\\n\\t\\t<li>Haskell</li>\\n\\t</ul>\\n\\n\\n\\t<table style=\"width:100%\">\\n\\n\\t  <tr>\\n\\t    <th>Program Name</th>\\n\\t    <th>Internet Points</th> \\n\\t    <th>Kittens?</th>\\n\\t  </tr>\\n\\n\\t  <tr>\\n\\t    <td>Python</td>\\n\\t    <td>932914021</td> \\n\\t    <td>Definitely</td>\\n\\t  </tr>\\n\\n\\t  <tr>\\n\\t    <td>Pascal</td>\\n\\t    <td>532</td> \\n\\t    <td>Unlikely</td>\\n\\t  </tr>\\n\\n\\n\\t  <tr>\\n\\t    <td>Lisp</td>\\n\\t    <td>1522</td> \\n\\t    <td>Uncertain</td>\\n\\t  </tr>\\n\\n\\n\\t  <tr>\\n\\t    <td>D#</td>\\n\\t    <td>12</td> \\n\\t    <td>Possibly</td>\\n\\t  </tr>\\n\\n\\n\\t  <tr>\\n\\t    <td>Cobol</td>\\n\\t    <td>3</td> \\n\\t    <td>No.</td>\\n\\t  </tr>\\n\\n\\t  <tr>\\n\\t    <td>Fortran</td>\\n\\t    <td>52124</td> \\n\\t    <td>Yes.</td>\\n\\t  </tr>\\n\\n\\t  <tr>\\n\\t    <td>Haskell</td>\\n\\t    <td>24</td> \\n\\t    <td>lol.</td>\\n\\t  </tr>\\n\\n\\t</table>\\n\\n\\t<p>I think it\\'s clear that, on a scale of 1-10, python is:</p>\\n\\n\\t<div class=\\'card hoverable\\'>\\n\\t\\t<div class=\\'card-content\\'>\\n\\t\\t\\t<div class=\\'card-title\\'></div>\\n\\t\\t\\t<img class=\"responsive-img\" src=\"https://s-media-cache-ak0.pinimg.com/originals/e8/2a/ff/e82aff2876b080675449d0cef7685321.jpg\" alt=\"omg batman\" />\\n\\t\\t</div>\\n\\t</div>\\n\\n  <p>Javascript (dynamic data) test:</p>\\n  <p class=\\'jstest\\' id=\\'yesnojs\\'>y u bad tho?</p>\\n  <script>\\n     document.getElementById(\\'yesnojs\\').innerHTML = \\'Look at you shinin!\\';\\n  </script> \\n\\n<br><br>\\n\\t\\n<pre>Beautiful is better than ugly.\\nExplicit is better than implicit.\\nSimple is better than complex.\\nComplex is better than complicated.\\nFlat is better than nested.\\nSparse is better than dense.\\nReadability counts.\\nSpecial cases aren\\'t special enough to break the rules.\\nAlthough practicality beats purity.\\nErrors should never pass silently.\\nUnless explicitly silenced.\\nIn the face of ambiguity, refuse the temptation to guess.\\nThere should be one-- and preferably only one --obvious way to do it.\\nAlthough that way may not be obvious at first unless you\\'re Dutch.\\nNow is better than never.\\nAlthough never is often better than *right* now.\\nIf the implementation is hard to explain, it\\'s a bad idea.\\nIf the implementation is easy to explain, it may be a good idea.\\nNamespaces are one honking great idea -- let\\'s do more of those!</pre>\\n\\n\\t<p>Wh\\xe1\\xb6\\x90t h\\xce\\xb1pp\\xc3\\xa9ns now\\xc2\\xbf</p>\\n\\n\\t<p><a href=\"/sitemap.xml\" target=\"blank\"><strong>sitemap</strong></a></p>\\n\\n</body>\\n\\n\\n\\t\\t\\t</div>\\n\\t\\t</div>\\n\\n\\t\\t<!--login modal-->\\n\\t\\t\\n\\n\\t\\t<!--Register modal-->\\n\\t\\t\\n\\n\\n\\t\\t<script>\\n\\t\\t\\t$(document).ready(function(){\\n\\t\\t\\t\\t$(\".button-collapse\").sideNav();\\n\\t\\t\\t\\t$(\\'.modal-trigger\\').leanModal();\\n\\t\\t\\t\\t$(\\'.collapsible\\').collapsible({\\n\\t\\t\\t\\t  accordion : false // A setting that changes the collapsible behavior to expandable instead of the default accordion style\\n\\t\\t\\t\\t});\\n\\t\\t\\t\\t$(\\'#aside\\').pushpin({ top:110, bottom:500 });\\n\\t\\t  });\\n\\t\\t</script>\\n\\t\\t<script>\\n\\t\\t  $(document).ready(function(){\\n\\t\\t\\t$(\\'.collapsible\\').collapsible({\\n\\t\\t\\t  accordion : false // A setting that changes the collapsible behavior to expandable instead of the default accordion style\\n\\t\\t\\t});\\n\\t\\t\\t$(\\'select\\').material_select();\\n\\t\\t  });\\n\\t  </script>\\n\\t  <script>\\n\\t\\tfunction goBack() {\\n\\t\\t\\twindow.history.back()\\n\\t\\t}\\n\\t</script>\\n\\t\\t<script type=\"text/javascript\" src=\"/static/js/run_prettify.js\"></script>\\n\\n\\t</body>\\n\\n<footer class=\"page-footer\">\\n          <div class=\"container\">\\n            <div class=\"row\">\\n              <div class=\"col l6 s12\">\\n                <h5 class=\"white-text\">You\\'ve reached the end!</h5>\\n\\n                <p class=\"grey-text text-lighten-4\">Contact: Harrison@pythonprogramming.net.</p>\\n                <ul>\\n                  <li><a class=\"grey-text text-lighten-3\" href=\"/support-donate/\">Support this Website!</a></li>\\n                  <li><a class=\"grey-text text-lighten-3\" href=\"/consulting/\">Consulting and Contracting</a></li>\\n                  <li><a class=\"grey-text text-lighten-3\" href=\"https://www.facebook.com/pythonprogramming.net/\">Facebook</a></li>\\n                  <li><a class=\"grey-text text-lighten-3\" href=\"https://twitter.com/sentdex\">Twitter</a></li>\\n                  <li><a class=\"grey-text text-lighten-3\" href=\"https://instagram.com/sentdex\">Instagram</a></li>\\n                </ul>\\n              </div>\\n              <div class=\"col l4 offset-l2 s12\">\\n                <h6 class=\"white-text\">Legal stuff:</h6>\\n                <ul>\\n                  <li><a class=\"grey-text text-lighten-3\" href=\"/about/tos/\">Terms and Conditions</a></li>\\n                  <li><a class=\"grey-text text-lighten-3\" href=\"/about/privacy-policy/\">Privacy Policy</a></li>\\n\\n                </ul>\\n              </div>\\n            </div>\\n          </div>\\n          <a href=\"https://xkcd.com/353/\" target=\\'blank\\'><p class=\"grey-text right\" style=\\'padding-right:10px\\'>Programming is a superpower.</p></a>\\n          <div class=\"footer-copyright\">\\n            <div class=\"container\">\\n            \\xc2\\xa9 OVER 9000! PythonProgramming.net\\n\\n            </div>\\n\\n          </div>\\n        </footer>\\n\\n</html>\\n\\n\\n\\n\\n\\n\\n\\n\\n\\n\\n\\n\\n\\n\\n'"
            ]
          },
          "metadata": {
            "tags": []
          },
          "execution_count": 28
        }
      ]
    },
    {
      "cell_type": "code",
      "metadata": {
        "id": "rsERl63MCIKz",
        "colab_type": "code",
        "colab": {}
      },
      "source": [
        "soup = bs4.BeautifulSoup(source,'lxml')"
      ],
      "execution_count": null,
      "outputs": []
    },
    {
      "cell_type": "code",
      "metadata": {
        "id": "dcTVmMzBCNRg",
        "colab_type": "code",
        "colab": {
          "base_uri": "https://localhost:8080/",
          "height": 1000
        },
        "outputId": "c0ddd0b1-cd1c-466a-8091-5944df739e25"
      },
      "source": [
        "soup"
      ],
      "execution_count": null,
      "outputs": [
        {
          "output_type": "execute_result",
          "data": {
            "text/plain": [
              "<html>\n",
              "<head>\n",
              "<!--\n",
              "\t\tpalette:\n",
              "\t\tdark blue: #003F72\n",
              "\t\tyellow: #FFD166\n",
              "\t\tsalmon: #EF476F\n",
              "\t\toffwhite: #e7d7d7\n",
              "\t\tLight Blue: #118AB2\n",
              "\t\tLight green: #7DDF64\n",
              "\t\t-->\n",
              "<meta content=\"width=device-width, initial-scale=1.0\" name=\"viewport\"/>\n",
              "<title>Python Programming Tutorials</title>\n",
              "<meta content=\"Python Programming tutorials from beginner to advanced on a massive variety of topics. All video and text tutorials are free.\" name=\"description\"/>\n",
              "<link href=\"/static/favicon.ico\" rel=\"shortcut icon\"/>\n",
              "<link href=\"/static/css/materialize.min.css\" rel=\"stylesheet\"/>\n",
              "<link href=\"https://fonts.googleapis.com/icon?family=Material+Icons\" rel=\"stylesheet\"/>\n",
              "<meta content=\"3fLok05gk5gGtWd_VSXbSSSH27F2kr1QqcxYz9vYq2k\" name=\"google-site-verification\"/>\n",
              "<link href=\"/static/css/bootstrap.css\" rel=\"stylesheet\" type=\"text/css\"/>\n",
              "<!-- Compiled and minified CSS -->\n",
              "<!-- Compiled and minified JavaScript -->\n",
              "<script src=\"https://code.jquery.com/jquery-2.1.4.min.js\"></script>\n",
              "<script src=\"https://cdnjs.cloudflare.com/ajax/libs/materialize/0.97.3/js/materialize.min.js\"></script>\n",
              "<style>\n",
              "\t\t@media (min-width:992px) {\n",
              "\t\t#aside {\n",
              "\t\t\twidth:250px;\n",
              "\t\t}\n",
              "\t\tpre { tab-size: 4;}\n",
              "\t\t.btn {background-color:#FFD166;\n",
              "\t\t\t  color:#000;\n",
              "\t\t      height:auto;\n",
              "\t\t\t  font-color:#000;\n",
              "\t\t\t  }\n",
              "\t\t.btn:hover {background-color:#FFD166;\n",
              "\t\t\t\t\t}\n",
              "\n",
              "\n",
              "\t\t</style>\n",
              "<!-- Google Tracking -->\n",
              "<script>\n",
              "\t\t\t  (function(i,s,o,g,r,a,m){i['GoogleAnalyticsObject']=r;i[r]=i[r]||function(){\n",
              "\t\t\t  (i[r].q=i[r].q||[]).push(arguments)},i[r].l=1*new Date();a=s.createElement(o),\n",
              "\t\t\t  m=s.getElementsByTagName(o)[0];a.async=1;a.src=g;m.parentNode.insertBefore(a,m)\n",
              "\t\t\t  })(window,document,'script','//www.google-analytics.com/analytics.js','ga');\n",
              "              ga('config', 'UA-51891827-1', {'anonymize_ip': true});﻿\n",
              "\t\t\t  ga('create', 'UA-51891827-1', 'auto');\n",
              "\t\t\t  ga('send', 'pageview');\n",
              "\n",
              "\t\t</script>\n",
              "<script async=\"\" src=\"//pagead2.googlesyndication.com/pagead/js/adsbygoogle.js\"></script>\n",
              "<script>\n",
              "                         (adsbygoogle = window.adsbygoogle || []).push({\n",
              "                              google_ad_client: \"ca-pub-1579050400541873\",\n",
              "                              enable_page_level_ads: true\n",
              "                         });\n",
              "                    </script>\n",
              "</head>\n",
              "<body>\n",
              "<div class=\"navbar-fixed\">\n",
              "<nav style=\"background-color:#003F72\">\n",
              "<div class=\"nav-wrapper container\">\n",
              "<a class=\"brand-logo\" href=\"/\"><img class=\"img-responsive\" src=\"/static/images/mainlogowhitethick.jpg\" style=\"width:50px; height;50px; margin-top:5px\"/></a>\n",
              "<a class=\"button-collapse\" data-activates=\"navsidebar\" href=\"#\"><i class=\"mdi-navigation-menu\"></i></a>\n",
              "<ul class=\"right hide-on-med-and-down\">\n",
              "<li><i class=\"material-icons\">search</i></li>\n",
              "<li>\n",
              "<form action=\"/search/?l=hi\" id=\"searchform\" method=\"get\" style=\"height:50px; padding-top:10px\">\n",
              "<input id=\"search\" name=\"q\" placeholder=\"search\" style=\"font-size:16px\" type=\"search\"/>\n",
              "</form>\n",
              "</li>\n",
              "<li><a href=\"/\">Home</a></li>\n",
              "<li><a class=\"tooltipped\" data-delay=\"50\" data-position=\"bottom\" data-tooltip=\"sudo apt-get upgrade\" href=\"/+=1/\">+=1</a></li>\n",
              "<!--<li><a href=\"/store/python-hoodie/\">Store</a></li>-->\n",
              "<li><a href=\"/support/\">Support the Content</a></li>\n",
              "<li><a href=\"https://goo.gl/7zgAVQ\" target=\"blank\"><!--<i class=\"material-icons\">question_answer</i>-->Community</a></li>\n",
              "<li><a href=\"/login/\">Log in</a></li>\n",
              "<li><a href=\"/register/\">Sign up</a></li>\n",
              "</ul>\n",
              "<ul class=\"side-nav\" id=\"navsidebar\">\n",
              "<li>\n",
              "<form action=\"/search/?l=hi\" id=\"searchform\" method=\"get\" style=\"height:50px; padding-top:10px\">\n",
              "<input id=\"search\" name=\"q\" placeholder=\"search\" style=\"font-size:16px\" type=\"search\"/>\n",
              "</form>\n",
              "</li>\n",
              "<li><a href=\"/\">Home</a></li>\n",
              "<li><a class=\"tooltipped\" data-delay=\"50\" data-position=\"bottom\" data-tooltip=\"sudo apt-get upgrade\" href=\"/+=1/\">+=1</a></li>\n",
              "<!--<li><a href=\"/store/python-hoodie/\">Store</a></li>-->\n",
              "<li><a href=\"/support/\">Support the Content</a></li>\n",
              "<li><a href=\"https://goo.gl/7zgAVQ\" target=\"blank\"><!--<i class=\"material-icons\">question_answer</i>-->Community</a></li>\n",
              "<li><a href=\"/login/\">Log in</a></li>\n",
              "<li><a href=\"/register/\">Sign up</a></li>\n",
              "</ul>\n",
              "</div>\n",
              "</nav>\n",
              "</div>\n",
              "<!-- main content -->\n",
              "<div class=\"container\" style=\"max-width:1500px; min-height:100%\">\n",
              "<!--Notification:-->\n",
              "<!--<p style=\"font-size:80%\">TensorFlow.js Livestream:  <a href=\"https://www.youtube.com/watch?v=NjSlj95lliM\" target=\"blank\"><strong>Deep Learning in the browser</strong></a></p>-->\n",
              "<!--End Notification:-->\n",
              "<div class=\"body\">\n",
              "<p class=\"introduction\">Oh, hello! This is a <span style=\"font-size:115%\">wonderful</span> page meant to let you practice web scraping. This page was originally created to help people work with the <a href=\"https://www.crummy.com/software/BeautifulSoup/bs4/doc/\" target=\"blank\"><strong>Beautiful Soup 4</strong></a> library.</p>\n",
              "<p>The following table gives some general information for the following <code>programming languages</code>:</p>\n",
              "<ul>\n",
              "<li>Python</li>\n",
              "<li>Pascal</li>\n",
              "<li>Lisp</li>\n",
              "<li>D#</li>\n",
              "<li>Cobol</li>\n",
              "<li>Fortran</li>\n",
              "<li>Haskell</li>\n",
              "</ul>\n",
              "<table style=\"width:100%\">\n",
              "<tr>\n",
              "<th>Program Name</th>\n",
              "<th>Internet Points</th>\n",
              "<th>Kittens?</th>\n",
              "</tr>\n",
              "<tr>\n",
              "<td>Python</td>\n",
              "<td>932914021</td>\n",
              "<td>Definitely</td>\n",
              "</tr>\n",
              "<tr>\n",
              "<td>Pascal</td>\n",
              "<td>532</td>\n",
              "<td>Unlikely</td>\n",
              "</tr>\n",
              "<tr>\n",
              "<td>Lisp</td>\n",
              "<td>1522</td>\n",
              "<td>Uncertain</td>\n",
              "</tr>\n",
              "<tr>\n",
              "<td>D#</td>\n",
              "<td>12</td>\n",
              "<td>Possibly</td>\n",
              "</tr>\n",
              "<tr>\n",
              "<td>Cobol</td>\n",
              "<td>3</td>\n",
              "<td>No.</td>\n",
              "</tr>\n",
              "<tr>\n",
              "<td>Fortran</td>\n",
              "<td>52124</td>\n",
              "<td>Yes.</td>\n",
              "</tr>\n",
              "<tr>\n",
              "<td>Haskell</td>\n",
              "<td>24</td>\n",
              "<td>lol.</td>\n",
              "</tr>\n",
              "</table>\n",
              "<p>I think it's clear that, on a scale of 1-10, python is:</p>\n",
              "<div class=\"card hoverable\">\n",
              "<div class=\"card-content\">\n",
              "<div class=\"card-title\"></div>\n",
              "<img alt=\"omg batman\" class=\"responsive-img\" src=\"https://s-media-cache-ak0.pinimg.com/originals/e8/2a/ff/e82aff2876b080675449d0cef7685321.jpg\"/>\n",
              "</div>\n",
              "</div>\n",
              "<p>Javascript (dynamic data) test:</p>\n",
              "<p class=\"jstest\" id=\"yesnojs\">y u bad tho?</p>\n",
              "<script>\n",
              "     document.getElementById('yesnojs').innerHTML = 'Look at you shinin!';\n",
              "  </script>\n",
              "<br/><br/>\n",
              "<pre>Beautiful is better than ugly.\n",
              "Explicit is better than implicit.\n",
              "Simple is better than complex.\n",
              "Complex is better than complicated.\n",
              "Flat is better than nested.\n",
              "Sparse is better than dense.\n",
              "Readability counts.\n",
              "Special cases aren't special enough to break the rules.\n",
              "Although practicality beats purity.\n",
              "Errors should never pass silently.\n",
              "Unless explicitly silenced.\n",
              "In the face of ambiguity, refuse the temptation to guess.\n",
              "There should be one-- and preferably only one --obvious way to do it.\n",
              "Although that way may not be obvious at first unless you're Dutch.\n",
              "Now is better than never.\n",
              "Although never is often better than *right* now.\n",
              "If the implementation is hard to explain, it's a bad idea.\n",
              "If the implementation is easy to explain, it may be a good idea.\n",
              "Namespaces are one honking great idea -- let's do more of those!</pre>\n",
              "<p>Whᶐt hαppéns now¿</p>\n",
              "<p><a href=\"/sitemap.xml\" target=\"blank\"><strong>sitemap</strong></a></p>\n",
              "</div></div></body>\n",
              "<!--login modal-->\n",
              "<!--Register modal-->\n",
              "<script>\n",
              "\t\t\t$(document).ready(function(){\n",
              "\t\t\t\t$(\".button-collapse\").sideNav();\n",
              "\t\t\t\t$('.modal-trigger').leanModal();\n",
              "\t\t\t\t$('.collapsible').collapsible({\n",
              "\t\t\t\t  accordion : false // A setting that changes the collapsible behavior to expandable instead of the default accordion style\n",
              "\t\t\t\t});\n",
              "\t\t\t\t$('#aside').pushpin({ top:110, bottom:500 });\n",
              "\t\t  });\n",
              "\t\t</script>\n",
              "<script>\n",
              "\t\t  $(document).ready(function(){\n",
              "\t\t\t$('.collapsible').collapsible({\n",
              "\t\t\t  accordion : false // A setting that changes the collapsible behavior to expandable instead of the default accordion style\n",
              "\t\t\t});\n",
              "\t\t\t$('select').material_select();\n",
              "\t\t  });\n",
              "\t  </script>\n",
              "<script>\n",
              "\t\tfunction goBack() {\n",
              "\t\t\twindow.history.back()\n",
              "\t\t}\n",
              "\t</script>\n",
              "<script src=\"/static/js/run_prettify.js\" type=\"text/javascript\"></script>\n",
              "<footer class=\"page-footer\">\n",
              "<div class=\"container\">\n",
              "<div class=\"row\">\n",
              "<div class=\"col l6 s12\">\n",
              "<h5 class=\"white-text\">You've reached the end!</h5>\n",
              "<p class=\"grey-text text-lighten-4\">Contact: Harrison@pythonprogramming.net.</p>\n",
              "<ul>\n",
              "<li><a class=\"grey-text text-lighten-3\" href=\"/support-donate/\">Support this Website!</a></li>\n",
              "<li><a class=\"grey-text text-lighten-3\" href=\"/consulting/\">Consulting and Contracting</a></li>\n",
              "<li><a class=\"grey-text text-lighten-3\" href=\"https://www.facebook.com/pythonprogramming.net/\">Facebook</a></li>\n",
              "<li><a class=\"grey-text text-lighten-3\" href=\"https://twitter.com/sentdex\">Twitter</a></li>\n",
              "<li><a class=\"grey-text text-lighten-3\" href=\"https://instagram.com/sentdex\">Instagram</a></li>\n",
              "</ul>\n",
              "</div>\n",
              "<div class=\"col l4 offset-l2 s12\">\n",
              "<h6 class=\"white-text\">Legal stuff:</h6>\n",
              "<ul>\n",
              "<li><a class=\"grey-text text-lighten-3\" href=\"/about/tos/\">Terms and Conditions</a></li>\n",
              "<li><a class=\"grey-text text-lighten-3\" href=\"/about/privacy-policy/\">Privacy Policy</a></li>\n",
              "</ul>\n",
              "</div>\n",
              "</div>\n",
              "</div>\n",
              "<a href=\"https://xkcd.com/353/\" target=\"blank\"><p class=\"grey-text right\" style=\"padding-right:10px\">Programming is a superpower.</p></a>\n",
              "<div class=\"footer-copyright\">\n",
              "<div class=\"container\">\n",
              "            © OVER 9000! PythonProgramming.net\n",
              "\n",
              "            </div>\n",
              "</div>\n",
              "</footer>\n",
              "</html>"
            ]
          },
          "metadata": {
            "tags": []
          },
          "execution_count": 21
        }
      ]
    },
    {
      "cell_type": "code",
      "metadata": {
        "id": "PI5ACMzmCbol",
        "colab_type": "code",
        "colab": {
          "base_uri": "https://localhost:8080/",
          "height": 34
        },
        "outputId": "145592c0-a3b5-4e8c-c874-82df1d00f374"
      },
      "source": [
        "soup.title"
      ],
      "execution_count": null,
      "outputs": [
        {
          "output_type": "execute_result",
          "data": {
            "text/plain": [
              "<title>Python Programming Tutorials</title>"
            ]
          },
          "metadata": {
            "tags": []
          },
          "execution_count": 32
        }
      ]
    },
    {
      "cell_type": "code",
      "metadata": {
        "id": "Rla7GEknC3Cz",
        "colab_type": "code",
        "colab": {
          "base_uri": "https://localhost:8080/",
          "height": 54
        },
        "outputId": "45f8dd98-3709-46a0-e4c1-a2657077b31f"
      },
      "source": [
        "# title of the page\n",
        "#print(soup.title)\n",
        "\n",
        "# get attributes:\n",
        "#print(soup.title.name)\n",
        "\n",
        "# get values:\n",
        "#print(soup.title.string)\n",
        "\n",
        "# beginning navigation:\n",
        "#print(soup.title.parent.name)\n",
        "\n",
        "# getting specific values:\n",
        "print(soup.p)"
      ],
      "execution_count": null,
      "outputs": [
        {
          "output_type": "stream",
          "text": [
            "<p class=\"introduction\">Oh, hello! This is a <span style=\"font-size:115%\">wonderful</span> page meant to let you practice web scraping. This page was originally created to help people work with the <a href=\"https://www.crummy.com/software/BeautifulSoup/bs4/doc/\" target=\"blank\"><strong>Beautiful Soup 4</strong></a> library.</p>\n"
          ],
          "name": "stdout"
        }
      ]
    },
    {
      "cell_type": "code",
      "metadata": {
        "id": "Y1TTTlPxDHAV",
        "colab_type": "code",
        "colab": {
          "base_uri": "https://localhost:8080/",
          "height": 54
        },
        "outputId": "262f963b-089c-4fac-e673-0a79afabd979"
      },
      "source": [
        "print(soup.find_all('p'))"
      ],
      "execution_count": null,
      "outputs": [
        {
          "output_type": "stream",
          "text": [
            "[<p class=\"introduction\">Oh, hello! This is a <span style=\"font-size:115%\">wonderful</span> page meant to let you practice web scraping. This page was originally created to help people work with the <a href=\"https://www.crummy.com/software/BeautifulSoup/bs4/doc/\" target=\"blank\"><strong>Beautiful Soup 4</strong></a> library.</p>, <p>The following table gives some general information for the following <code>programming languages</code>:</p>, <p>I think it's clear that, on a scale of 1-10, python is:</p>, <p>Javascript (dynamic data) test:</p>, <p class=\"jstest\" id=\"yesnojs\">y u bad tho?</p>, <p>Whᶐt hαppéns now¿</p>, <p><a href=\"/sitemap.xml\" target=\"blank\"><strong>sitemap</strong></a></p>, <p class=\"grey-text text-lighten-4\">Contact: Harrison@pythonprogramming.net.</p>, <p class=\"grey-text right\" style=\"padding-right:10px\">Programming is a superpower.</p>]\n"
          ],
          "name": "stdout"
        }
      ]
    },
    {
      "cell_type": "code",
      "metadata": {
        "id": "m_G5-_8mDkbf",
        "colab_type": "code",
        "colab": {
          "base_uri": "https://localhost:8080/",
          "height": 319
        },
        "outputId": "f5e79baf-de93-4348-f625-fc0e9b59b8fa"
      },
      "source": [
        "for paragraph in soup.find_all('p'):\n",
        "    print(paragraph.string)\n",
        "    print(str(paragraph.text))"
      ],
      "execution_count": null,
      "outputs": [
        {
          "output_type": "stream",
          "text": [
            "None\n",
            "Oh, hello! This is a wonderful page meant to let you practice web scraping. This page was originally created to help people work with the Beautiful Soup 4 library.\n",
            "None\n",
            "The following table gives some general information for the following programming languages:\n",
            "I think it's clear that, on a scale of 1-10, python is:\n",
            "I think it's clear that, on a scale of 1-10, python is:\n",
            "Javascript (dynamic data) test:\n",
            "Javascript (dynamic data) test:\n",
            "y u bad tho?\n",
            "y u bad tho?\n",
            "Whᶐt hαppéns now¿\n",
            "Whᶐt hαppéns now¿\n",
            "sitemap\n",
            "sitemap\n",
            "Contact: Harrison@pythonprogramming.net.\n",
            "Contact: Harrison@pythonprogramming.net.\n",
            "Programming is a superpower.\n",
            "Programming is a superpower.\n"
          ],
          "name": "stdout"
        }
      ]
    },
    {
      "cell_type": "code",
      "metadata": {
        "id": "o3Pxd1gPDpts",
        "colab_type": "code",
        "colab": {
          "base_uri": "https://localhost:8080/",
          "height": 420
        },
        "outputId": "f8592c78-3967-4ecb-c55d-70aea0b60cf6"
      },
      "source": [
        "for url in soup.find_all('a'):\n",
        "    print(url.get('href'))"
      ],
      "execution_count": null,
      "outputs": [
        {
          "output_type": "stream",
          "text": [
            "/\n",
            "#\n",
            "/\n",
            "/+=1/\n",
            "/support/\n",
            "https://goo.gl/7zgAVQ\n",
            "/login/\n",
            "/register/\n",
            "/\n",
            "/+=1/\n",
            "/support/\n",
            "https://goo.gl/7zgAVQ\n",
            "/login/\n",
            "/register/\n",
            "https://www.crummy.com/software/BeautifulSoup/bs4/doc/\n",
            "/sitemap.xml\n",
            "/support-donate/\n",
            "/consulting/\n",
            "https://www.facebook.com/pythonprogramming.net/\n",
            "https://twitter.com/sentdex\n",
            "https://instagram.com/sentdex\n",
            "/about/tos/\n",
            "/about/privacy-policy/\n",
            "https://xkcd.com/353/\n"
          ],
          "name": "stdout"
        }
      ]
    },
    {
      "cell_type": "code",
      "metadata": {
        "id": "Z7pprJ2EDzrc",
        "colab_type": "code",
        "colab": {
          "base_uri": "https://localhost:8080/",
          "height": 1000
        },
        "outputId": "0905957d-97a6-4225-a5d1-f2daf740a4a6"
      },
      "source": [
        "print(soup.get_text())"
      ],
      "execution_count": null,
      "outputs": [
        {
          "output_type": "stream",
          "text": [
            "\n",
            "\n",
            "\n",
            "\n",
            "Python Programming Tutorials\n",
            "\n",
            "\n",
            "\n",
            "\n",
            "\n",
            "\n",
            "\n",
            "\n",
            "\n",
            "\n",
            "\n",
            "\t\t@media (min-width:992px) {\n",
            "\t\t#aside {\n",
            "\t\t\twidth:250px;\n",
            "\t\t}\n",
            "\t\tpre { tab-size: 4;}\n",
            "\t\t.btn {background-color:#FFD166;\n",
            "\t\t\t  color:#000;\n",
            "\t\t      height:auto;\n",
            "\t\t\t  font-color:#000;\n",
            "\t\t\t  }\n",
            "\t\t.btn:hover {background-color:#FFD166;\n",
            "\t\t\t\t\t}\n",
            "\n",
            "\n",
            "\t\t\n",
            "\n",
            "\n",
            "\t\t\t  (function(i,s,o,g,r,a,m){i['GoogleAnalyticsObject']=r;i[r]=i[r]||function(){\n",
            "\t\t\t  (i[r].q=i[r].q||[]).push(arguments)},i[r].l=1*new Date();a=s.createElement(o),\n",
            "\t\t\t  m=s.getElementsByTagName(o)[0];a.async=1;a.src=g;m.parentNode.insertBefore(a,m)\n",
            "\t\t\t  })(window,document,'script','//www.google-analytics.com/analytics.js','ga');\n",
            "              ga('config', 'UA-51891827-1', {'anonymize_ip': true});﻿\n",
            "\t\t\t  ga('create', 'UA-51891827-1', 'auto');\n",
            "\t\t\t  ga('send', 'pageview');\n",
            "\n",
            "\t\t\n",
            "\n",
            "\n",
            "                         (adsbygoogle = window.adsbygoogle || []).push({\n",
            "                              google_ad_client: \"ca-pub-1579050400541873\",\n",
            "                              enable_page_level_ads: true\n",
            "                         });\n",
            "                    \n",
            "\n",
            "\n",
            "\n",
            "\n",
            "\n",
            "\n",
            "\n",
            "\n",
            "search\n",
            "\n",
            "\n",
            "\n",
            "\n",
            "\n",
            "Home\n",
            "+=1\n",
            "\n",
            "Support the Content\n",
            "Community\n",
            "Log in\n",
            "Sign up\n",
            "\n",
            "\n",
            "\n",
            "\n",
            "\n",
            "\n",
            "\n",
            "Home\n",
            "+=1\n",
            "\n",
            "Support the Content\n",
            "Community\n",
            "Log in\n",
            "Sign up\n",
            "\n",
            "\n",
            "\n",
            "\n",
            "\n",
            "\n",
            "\n",
            "\n",
            "\n",
            "\n",
            "Oh, hello! This is a wonderful page meant to let you practice web scraping. This page was originally created to help people work with the Beautiful Soup 4 library.\n",
            "The following table gives some general information for the following programming languages:\n",
            "\n",
            "Python\n",
            "Pascal\n",
            "Lisp\n",
            "D#\n",
            "Cobol\n",
            "Fortran\n",
            "Haskell\n",
            "\n",
            "\n",
            "\n",
            "Program Name\n",
            "Internet Points\n",
            "Kittens?\n",
            "\n",
            "\n",
            "Python\n",
            "932914021\n",
            "Definitely\n",
            "\n",
            "\n",
            "Pascal\n",
            "532\n",
            "Unlikely\n",
            "\n",
            "\n",
            "Lisp\n",
            "1522\n",
            "Uncertain\n",
            "\n",
            "\n",
            "D#\n",
            "12\n",
            "Possibly\n",
            "\n",
            "\n",
            "Cobol\n",
            "3\n",
            "No.\n",
            "\n",
            "\n",
            "Fortran\n",
            "52124\n",
            "Yes.\n",
            "\n",
            "\n",
            "Haskell\n",
            "24\n",
            "lol.\n",
            "\n",
            "\n",
            "I think it's clear that, on a scale of 1-10, python is:\n",
            "\n",
            "\n",
            "\n",
            "\n",
            "\n",
            "\n",
            "Javascript (dynamic data) test:\n",
            "y u bad tho?\n",
            "\n",
            "     document.getElementById('yesnojs').innerHTML = 'Look at you shinin!';\n",
            "  \n",
            "\n",
            "Beautiful is better than ugly.\n",
            "Explicit is better than implicit.\n",
            "Simple is better than complex.\n",
            "Complex is better than complicated.\n",
            "Flat is better than nested.\n",
            "Sparse is better than dense.\n",
            "Readability counts.\n",
            "Special cases aren't special enough to break the rules.\n",
            "Although practicality beats purity.\n",
            "Errors should never pass silently.\n",
            "Unless explicitly silenced.\n",
            "In the face of ambiguity, refuse the temptation to guess.\n",
            "There should be one-- and preferably only one --obvious way to do it.\n",
            "Although that way may not be obvious at first unless you're Dutch.\n",
            "Now is better than never.\n",
            "Although never is often better than *right* now.\n",
            "If the implementation is hard to explain, it's a bad idea.\n",
            "If the implementation is easy to explain, it may be a good idea.\n",
            "Namespaces are one honking great idea -- let's do more of those!\n",
            "Whᶐt hαppéns now¿\n",
            "sitemap\n",
            "\n",
            "\n",
            "\n",
            "\n",
            "\t\t\t$(document).ready(function(){\n",
            "\t\t\t\t$(\".button-collapse\").sideNav();\n",
            "\t\t\t\t$('.modal-trigger').leanModal();\n",
            "\t\t\t\t$('.collapsible').collapsible({\n",
            "\t\t\t\t  accordion : false // A setting that changes the collapsible behavior to expandable instead of the default accordion style\n",
            "\t\t\t\t});\n",
            "\t\t\t\t$('#aside').pushpin({ top:110, bottom:500 });\n",
            "\t\t  });\n",
            "\t\t\n",
            "\n",
            "\t\t  $(document).ready(function(){\n",
            "\t\t\t$('.collapsible').collapsible({\n",
            "\t\t\t  accordion : false // A setting that changes the collapsible behavior to expandable instead of the default accordion style\n",
            "\t\t\t});\n",
            "\t\t\t$('select').material_select();\n",
            "\t\t  });\n",
            "\t  \n",
            "\n",
            "\t\tfunction goBack() {\n",
            "\t\t\twindow.history.back()\n",
            "\t\t}\n",
            "\t\n",
            "\n",
            "\n",
            "\n",
            "\n",
            "\n",
            "You've reached the end!\n",
            "Contact: Harrison@pythonprogramming.net.\n",
            "\n",
            "Support this Website!\n",
            "Consulting and Contracting\n",
            "Facebook\n",
            "Twitter\n",
            "Instagram\n",
            "\n",
            "\n",
            "\n",
            "Legal stuff:\n",
            "\n",
            "Terms and Conditions\n",
            "Privacy Policy\n",
            "\n",
            "\n",
            "\n",
            "\n",
            "Programming is a superpower.\n",
            "\n",
            "\n",
            "            © OVER 9000! PythonProgramming.net\n",
            "\n",
            "            \n",
            "\n",
            "\n",
            "\n",
            "\n"
          ],
          "name": "stdout"
        }
      ]
    },
    {
      "cell_type": "code",
      "metadata": {
        "id": "2rwj9O5pEYAb",
        "colab_type": "code",
        "colab": {}
      },
      "source": [
        ""
      ],
      "execution_count": null,
      "outputs": []
    }
  ]
}